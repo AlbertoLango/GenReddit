{
 "cells": [
  {
   "cell_type": "code",
   "execution_count": 5,
   "id": "69ddbf15",
   "metadata": {},
   "outputs": [
    {
     "name": "stdout",
     "output_type": "stream",
     "text": [
      "Defaulting to user installation because normal site-packages is not writeable\n",
      "Requirement already satisfied: ollama in c:\\users\\cheng\\appdata\\roaming\\python\\python313\\site-packages (0.4.8)\n",
      "Requirement already satisfied: httpx<0.29,>=0.27 in c:\\users\\cheng\\appdata\\roaming\\python\\python313\\site-packages (from ollama) (0.28.1)\n",
      "Requirement already satisfied: pydantic<3.0.0,>=2.9.0 in c:\\users\\cheng\\appdata\\roaming\\python\\python313\\site-packages (from ollama) (2.11.3)\n",
      "Requirement already satisfied: anyio in c:\\users\\cheng\\appdata\\roaming\\python\\python313\\site-packages (from httpx<0.29,>=0.27->ollama) (4.9.0)\n",
      "Requirement already satisfied: certifi in c:\\users\\cheng\\appdata\\roaming\\python\\python313\\site-packages (from httpx<0.29,>=0.27->ollama) (2025.1.31)\n",
      "Requirement already satisfied: httpcore==1.* in c:\\users\\cheng\\appdata\\roaming\\python\\python313\\site-packages (from httpx<0.29,>=0.27->ollama) (1.0.8)\n",
      "Requirement already satisfied: idna in c:\\users\\cheng\\appdata\\roaming\\python\\python313\\site-packages (from httpx<0.29,>=0.27->ollama) (3.10)\n",
      "Requirement already satisfied: h11<0.15,>=0.13 in c:\\users\\cheng\\appdata\\roaming\\python\\python313\\site-packages (from httpcore==1.*->httpx<0.29,>=0.27->ollama) (0.14.0)\n",
      "Requirement already satisfied: annotated-types>=0.6.0 in c:\\users\\cheng\\appdata\\roaming\\python\\python313\\site-packages (from pydantic<3.0.0,>=2.9.0->ollama) (0.7.0)\n",
      "Requirement already satisfied: pydantic-core==2.33.1 in c:\\users\\cheng\\appdata\\roaming\\python\\python313\\site-packages (from pydantic<3.0.0,>=2.9.0->ollama) (2.33.1)\n",
      "Requirement already satisfied: typing-extensions>=4.12.2 in c:\\users\\cheng\\appdata\\roaming\\python\\python313\\site-packages (from pydantic<3.0.0,>=2.9.0->ollama) (4.13.2)\n",
      "Requirement already satisfied: typing-inspection>=0.4.0 in c:\\users\\cheng\\appdata\\roaming\\python\\python313\\site-packages (from pydantic<3.0.0,>=2.9.0->ollama) (0.4.0)\n",
      "Requirement already satisfied: sniffio>=1.1 in c:\\users\\cheng\\appdata\\roaming\\python\\python313\\site-packages (from anyio->httpx<0.29,>=0.27->ollama) (1.3.1)\n"
     ]
    },
    {
     "name": "stderr",
     "output_type": "stream",
     "text": [
      "\n",
      "[notice] A new release of pip is available: 24.3.1 -> 25.0.1\n",
      "[notice] To update, run: python.exe -m pip install --upgrade pip\n"
     ]
    }
   ],
   "source": [
    "!pip install ollama"
   ]
  },
  {
   "cell_type": "code",
   "execution_count": 43,
   "id": "62460da5",
   "metadata": {},
   "outputs": [
    {
     "name": "stdout",
     "output_type": "stream",
     "text": [
      "A 20-year-old Florida State University student identified as Phoenix Ikner, the son of a sheriff's deputy, opened fire with his mother's former service weapon outside the student union on Thursday. Two men died and at least six others were wounded in the shooting, which occurred around lunchtime. Investigators believe Ikner was a FSU student and obtained access to the weapon from his mother, who has been with the sheriff's office for over 18 years. The shooter refused to comply with police commands after they arrived on scene and were eventually shot and wounded himself. Five people injured in the shooting were struck by gunfire, while a sixth person was hurt trying to run away. All six injured are in fair condition at Tallahassee Memorial HealthCare. Ikner is currently hospitalized with \"serious but non-life-threatening injuries.\" The motive for the shooting has not been released. Florida State University canceled classes and home athletic events through Sunday.\n"
     ]
    }
   ],
   "source": [
    "from ollama import chat\n",
    "from ollama import ChatResponse\n",
    "\n",
    "news_story = f\"\"\"\n",
    "▶ Follow live updates of the Florida State University shooting TALLAHASSEE, Fla. (AP) — The 20-year-old son of a sheriff’s deputy opened fire Thursday at Florida State University with his mother’s former service weapon, killing two men and wounding at least six others, investigators said. Officers quickly arrived and shot and wounded the shooter after he refused to comply with commands, said Tallahassee Police Chief Lawrence Revell. Authorities have not yet revealed a motive for the shooting, which began around lunchtime just outside the student union, sending frightened students and parents hiding for cover in a bowling alley and a freight elevator inside the building.  The shooter, identified by police as Phoenix Ikner, is believed to be a Florida State student, investigators said. The two men who died were not students, said Florida State University Police Chief Jason Trumbower, adding that he would not release additional information about the victims.  The shooter obtained access to a weapon that belongs to his mother, who has been with the sheriff’s office for over 18 years and has been a model employee, said Leon County Sheriff Walt McNeil. Police said they believed Ikner shot the victims using his mother’s former service handgun, which she had kept for personal use after the force upgraded to new weapons.  \n",
    " Five people who were injured were struck by gunfire while a sixth was hurt while trying to run away, Revell said in a statement Thursday night. They were all in fair condition, Tallahassee Memorial HealthCare said in a Facebook post. The alleged shooter was a long-standing member of the sheriff’s office’s youth advisory council, the sheriff said. “He has been steeped in the Leon County Sheriff’s Office family, engaged in a number of training programs that we have,” McNeil said. “So it’s not a surprise to us that he had access to weapons.” Lee esta historia en español As of Thursday night, Ikner was in the hospital with “serious but non-life-threatening injuries,” according to Revell.  Ambulances, fire trucks and patrol vehicles from multiple law enforcement agencies raced toward the campus just west of Florida’s capital after the university issued an active shooter alert. Aidan Stickney, a 21-year-old studying business management, was running late to class when he said he saw a man get out of a car with a shotgun and aim at another man in a white polo shirt. The gun jammed, Stickney said, and the shooter rushed back to his car and emerged with a handgun, opening fire on a woman. Stickney ran, warning others as he called 911. “I got lucky today. I really did. I really, really did,” he said. Trumbower said investigators have no evidence that anyone was shot with the shotgun.   Ryan Cedergren, a 21-year-old communications student, said he and about 30 others hid in the bowling alley in the union’s lower level after seeing students running from a nearby bar.  Florida State University students wait for news amid an active shooter incident at the school’s campus in Tallahassee, Fla., Thursday, April 17, 2025 (AP Photo/Kate Payne)  “In that moment, it was survival,” he said. In an AP interview, Florida State student Joshua Sirmans says he was first alerted when he heard what he thought was the fire alarm go off. Chris Pento said he and his twins were getting lunch at the student union during a campus tour when they heard gunshots. “It was surreal. And people just started running,” he told WCTV in Tallahassee. They crammed into a service elevator after encountering locked doors at the end of a hallway. “That was probably the scariest point because we didn’t know. It could get worse, right?” he said. “The doors opened and two officers were there, guns drawn.” Dozens of patrol vehicles, including a forensics van, were parked outside the student union hours after the shooting. Officers blocked off the area with crime scene tape.  Students and staff who left behind phones, keys and other items in the rush to evacuate waited in the shade and prayed for the victims.  President Donald Trump said from the Oval Office that he had been fully briefed on the shooting. “It’s a horrible thing. It’s horrible that things like this take place,” he said.  But Trump also suggested that he would not be advocating for any new gun legislation, saying, “The gun doesn’t do the shooting, the people do.” After receiving warnings of an active shooter, students and faculty took cover and waited in classrooms, offices and dorms across campus. The first thing you think of is just, ‘This can’t be true,’ right?” said Kai McGalla, a sophomore who spoke by phone while locked down at a campus testing center.  Junior Joshua Sirmans, 20, was in the main library when alarms went off. Law enforcement officers escorted him and other students from the library with their hands over their heads, he said. University President Richard McCullough said he was heartbroken by the violence. “Our hearts go out to our students and the victims of this terrible tragedy,” he said.  As dusk fell over Florida State University, a small memorial of candles and bouquets of flowers had been set up outside the student union, while investigators’ yellow tape blocked off the nearby doors.  Florida State is one of Florida’s 12 public universities, with its main campus in Tallahassee. About 44,000 students are enrolled in the university, per the school’s 2024 fact sheet. In 2014, the main library was the site of a shooting that wounded three people. Officers shot and killed the gunman, 31-year-old Myron May.  The university canceled classes for the rest of the week and canceled home athletic events through Sunday. ___ This story has been updated to correct Trump’s quote. ___ Fischer reported from Fort Lauderdale. Associated Press reporters Stephany Matat in West Palm Beach, Curt Anderson in St. Petersburg, Michael Schneider in Orlando, Mike Balsamo in New York, Eric Tucker and Christopher Megerian in Washington, and John Seewer in Toledo, Ohio, contributed to this report.\n",
    " \"\"\"\n",
    "role = \"You are a reddit story writer. You write summaries of real news articles in such a way that users on reddit can read. Don't insert any weird punctuations or stylistic writing choices, simply produce a string of text. \"\n",
    "\n",
    "history = [{\n",
    "      'role': 'user',\n",
    "      'content': role + ' ' + 'Summarize the following story.' + ' ' + news_story\n",
    "    }]\n",
    "def log_interaction(role, content, response):\n",
    "    history.insert({\n",
    "      'role': 'user',\n",
    "      'content': 'Summarize the following story. ' + news_story\n",
    "    })\n",
    "response: ChatResponse = chat(model='llama3.2', messages=history)\n",
    "\n",
    "\n",
    "print(response['message']['content'].strip())"
   ]
  },
  {
   "cell_type": "code",
   "execution_count": null,
   "id": "c4d04023",
   "metadata": {},
   "outputs": [],
   "source": [
    "# Download libraries\n",
    "#pip install ollama\n",
    "\n",
    "# Import libraries\n",
    "from ollama import chat\n",
    "from ollama import ChatResponse\n",
    "\n",
    "# Function definition\n",
    "def generateScript(news_story, role):\n",
    "\n",
    "\t# Handle misuses\n",
    "\tif (role==\"\"):\n",
    "\t\trole = \"You are a reddit story writer. You write summaries of real news articles in such a way that users on reddit can read. Don't insert any weird punctuations or stylistic writing choices, simply produce a string of text. \"\n",
    "\tif (news_story==\"\"):\n",
    "\t\treturn \"\"\n",
    "\t\n",
    "\t# Initialzie variables\n",
    "\thistory = [{\n",
    "      'role': 'user',\n",
    "      'content': role + ' ' + 'Summarize the following story.' + ' ' + news_story\n",
    "    }]\n",
    "\t\n",
    "\t# Main call\n",
    "\tresponse: ChatResponse = chat(model='llama3.2', messages=history)\n",
    "\n",
    "\t# Filter such that we only get line of string.\n",
    "\treturn \" \".join(response['message']['content'].strip().split())"
   ]
  },
  {
   "cell_type": "code",
   "execution_count": 63,
   "id": "f0bee3ed",
   "metadata": {},
   "outputs": [],
   "source": [
    "# news_story = f\"\"\"\n",
    "# ▶ Follow live updates of the Florida State University shooting TALLAHASSEE, Fla. (AP) — The 20-year-old son of a sheriff’s deputy opened fire Thursday at Florida State University with his mother’s former service weapon, killing two men and wounding at least six others, investigators said. Officers quickly arrived and shot and wounded the shooter after he refused to comply with commands, said Tallahassee Police Chief Lawrence Revell. Authorities have not yet revealed a motive for the shooting, which began around lunchtime just outside the student union, sending frightened students and parents hiding for cover in a bowling alley and a freight elevator inside the building.  The shooter, identified by police as Phoenix Ikner, is believed to be a Florida State student, investigators said. The two men who died were not students, said Florida State University Police Chief Jason Trumbower, adding that he would not release additional information about the victims.  The shooter obtained access to a weapon that belongs to his mother, who has been with the sheriff’s office for over 18 years and has been a model employee, said Leon County Sheriff Walt McNeil. Police said they believed Ikner shot the victims using his mother’s former service handgun, which she had kept for personal use after the force upgraded to new weapons.  \n",
    "#  Five people who were injured were struck by gunfire while a sixth was hurt while trying to run away, Revell said in a statement Thursday night. They were all in fair condition, Tallahassee Memorial HealthCare said in a Facebook post. The alleged shooter was a long-standing member of the sheriff’s office’s youth advisory council, the sheriff said. “He has been steeped in the Leon County Sheriff’s Office family, engaged in a number of training programs that we have,” McNeil said. “So it’s not a surprise to us that he had access to weapons.” Lee esta historia en español As of Thursday night, Ikner was in the hospital with “serious but non-life-threatening injuries,” according to Revell.  Ambulances, fire trucks and patrol vehicles from multiple law enforcement agencies raced toward the campus just west of Florida’s capital after the university issued an active shooter alert. Aidan Stickney, a 21-year-old studying business management, was running late to class when he said he saw a man get out of a car with a shotgun and aim at another man in a white polo shirt. The gun jammed, Stickney said, and the shooter rushed back to his car and emerged with a handgun, opening fire on a woman. Stickney ran, warning others as he called 911. “I got lucky today. I really did. I really, really did,” he said. Trumbower said investigators have no evidence that anyone was shot with the shotgun.   Ryan Cedergren, a 21-year-old communications student, said he and about 30 others hid in the bowling alley in the union’s lower level after seeing students running from a nearby bar.  Florida State University students wait for news amid an active shooter incident at the school’s campus in Tallahassee, Fla., Thursday, April 17, 2025 (AP Photo/Kate Payne)  “In that moment, it was survival,” he said. In an AP interview, Florida State student Joshua Sirmans says he was first alerted when he heard what he thought was the fire alarm go off. Chris Pento said he and his twins were getting lunch at the student union during a campus tour when they heard gunshots. “It was surreal. And people just started running,” he told WCTV in Tallahassee. They crammed into a service elevator after encountering locked doors at the end of a hallway. “That was probably the scariest point because we didn’t know. It could get worse, right?” he said. “The doors opened and two officers were there, guns drawn.” Dozens of patrol vehicles, including a forensics van, were parked outside the student union hours after the shooting. Officers blocked off the area with crime scene tape.  Students and staff who left behind phones, keys and other items in the rush to evacuate waited in the shade and prayed for the victims.  President Donald Trump said from the Oval Office that he had been fully briefed on the shooting. “It’s a horrible thing. It’s horrible that things like this take place,” he said.  But Trump also suggested that he would not be advocating for any new gun legislation, saying, “The gun doesn’t do the shooting, the people do.” After receiving warnings of an active shooter, students and faculty took cover and waited in classrooms, offices and dorms across campus. The first thing you think of is just, ‘This can’t be true,’ right?” said Kai McGalla, a sophomore who spoke by phone while locked down at a campus testing center.  Junior Joshua Sirmans, 20, was in the main library when alarms went off. Law enforcement officers escorted him and other students from the library with their hands over their heads, he said. University President Richard McCullough said he was heartbroken by the violence. “Our hearts go out to our students and the victims of this terrible tragedy,” he said.  As dusk fell over Florida State University, a small memorial of candles and bouquets of flowers had been set up outside the student union, while investigators’ yellow tape blocked off the nearby doors.  Florida State is one of Florida’s 12 public universities, with its main campus in Tallahassee. About 44,000 students are enrolled in the university, per the school’s 2024 fact sheet. In 2014, the main library was the site of a shooting that wounded three people. Officers shot and killed the gunman, 31-year-old Myron May.  The university canceled classes for the rest of the week and canceled home athletic events through Sunday. ___ This story has been updated to correct Trump’s quote. ___ Fischer reported from Fort Lauderdale. Associated Press reporters Stephany Matat in West Palm Beach, Curt Anderson in St. Petersburg, Michael Schneider in Orlando, Mike Balsamo in New York, Eric Tucker and Christopher Megerian in Washington, and John Seewer in Toledo, Ohio, contributed to this report.\n",
    "#  \"\"\"\n",
    "with open(\"stories.txt\", 'r', encoding='charmap', errors='ignore') as infile:\n",
    "\tnews_stories = infile.readlines()\n",
    "role = \"You are a reddit story writer. You write summaries of real news articles in such a way that users on reddit can read. Don't insert any weird punctuations or stylistic writing choices, simply produce a string of text. \"\n",
    "\n",
    "# Create a txt file of narrator scripts\n",
    "with open('scripts.txt', 'a', encoding='utf-8') as txt_file:\n",
    "\tfor news_story in news_stories:\n",
    "\t\tscript = generateScript(news_story, role)\n",
    "\t\ttxt_file.write(script + '\\n')\n",
    "\t"
   ]
  },
  {
   "cell_type": "code",
   "execution_count": 56,
   "id": "2a027f50",
   "metadata": {},
   "outputs": [
    {
     "name": "stdout",
     "output_type": "stream",
     "text": [
      "A 20-year-old Florida State University student opened fire on campus with his mother's former police service weapon, killing two people and wounding at least six others. The shooter, identified as Phoenix Ikner, was a long-standing member of the Leon County Sheriff's Office youth advisory council and had access to weapons due to his family ties. Authorities say Ikner shot the victims using his mother's former service handgun, which she kept for personal use after the force upgraded to new weapons. Five people were injured by gunfire, while a sixth was hurt trying to run away. The shooter was taken into custody after refusing to comply with police commands and was later found in the hospital with serious but non-life-threatening injuries. The motive for the shooting is currently unknown, and authorities are investigating the incident. Florida State University has canceled classes for the rest of the week and home athletic events through Sunday.\n"
     ]
    }
   ],
   "source": [
    "print(script)"
   ]
  }
 ],
 "metadata": {
  "kernelspec": {
   "display_name": "Python 3",
   "language": "python",
   "name": "python3"
  },
  "language_info": {
   "codemirror_mode": {
    "name": "ipython",
    "version": 3
   },
   "file_extension": ".py",
   "mimetype": "text/x-python",
   "name": "python",
   "nbconvert_exporter": "python",
   "pygments_lexer": "ipython3",
   "version": "3.13.2"
  }
 },
 "nbformat": 4,
 "nbformat_minor": 5
}
